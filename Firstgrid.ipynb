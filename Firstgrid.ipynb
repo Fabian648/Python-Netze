{
 "cells": [
  {
   "cell_type": "code",
   "execution_count": 1,
   "metadata": {},
   "outputs": [],
   "source": [
    "import gzip\n",
    "import numpy as np\n",
    "\n",
    "def open_images(filename):\n",
    "\n",
    "    with gzip.open(filename, \"rb\") as file:\n",
    "        data = file.read()\n",
    "        return np.frombuffer(data, dtype=np.uint8, offset=16)\\\n",
    "            .reshape(-1, 28, 28)\\\n",
    "            .astype(np.float32)\n",
    "\n",
    "\n",
    "def open_labels(filename):\n",
    "    with gzip.open(filename, \"rb\") as file:\n",
    "        data = file.read()\n",
    "        return np.frombuffer(data, dtype=np.uint8, offset=8)\n",
    "\n",
    "x_train = open_images(\"C:\\\\Users\\\\fabia\\\\Desktop\\\\Kurs\\\\Kursmaterialien\\\\data\\\\fashion\\\\train-images-idx3-ubyte.gz\")\n",
    "y_train = open_labels(\"C:\\\\Users\\\\fabia\\\\Desktop\\\\Kurs\\\\Kursmaterialien\\\\data\\\\fashion\\\\train-labels-idx1-ubyte.gz\")\n",
    "\n",
    "y_train = y_train == 0\n",
    "\n",
    "x_test = open_images(\"C:\\\\Users\\\\fabia\\\\Desktop\\\\Kurs\\\\Kursmaterialien\\\\data\\\\fashion\\\\t10k-images-idx3-ubyte.gz\")\n",
    "y_test = open_labels(\"C:\\\\Users\\\\fabia\\\\Desktop\\\\Kurs\\\\Kursmaterialien\\\\data\\\\fashion\\\\t10k-labels-idx1-ubyte.gz\")\n",
    "\n",
    "y_test = y_test== 0\n",
    "\n"
   ]
  },
  {
   "cell_type": "code",
   "execution_count": 2,
   "metadata": {},
   "outputs": [],
   "source": [
    "from tensorflow.keras.models import Sequential\n",
    "from tensorflow.keras.layers import Dense"
   ]
  },
  {
   "cell_type": "code",
   "execution_count": 3,
   "metadata": {},
   "outputs": [],
   "source": [
    "model = Sequential()\n",
    "\n",
    "model.add(Dense(100, activation=\"sigmoid\", input_shape=(784,)))\n",
    "model.add(Dense(1, activation=\"sigmoid\"))\n",
    "\n",
    "model.compile(optimizer=\"sgd\", loss=\"binary_crossentropy\", metrics=[\"accuracy\"])"
   ]
  },
  {
   "cell_type": "code",
   "execution_count": 4,
   "metadata": {},
   "outputs": [
    {
     "name": "stdout",
     "output_type": "stream",
     "text": [
      "Epoch 1/10\n",
      "60/60 [==============================] - 0s 2ms/step - loss: 0.2888 - accuracy: 0.8756\n",
      "Epoch 2/10\n",
      "60/60 [==============================] - 0s 2ms/step - loss: 0.1910 - accuracy: 0.9223\n",
      "Epoch 3/10\n",
      "60/60 [==============================] - 0s 3ms/step - loss: 0.1684 - accuracy: 0.9418\n",
      "Epoch 4/10\n",
      "60/60 [==============================] - 0s 2ms/step - loss: 0.1524 - accuracy: 0.9484\n",
      "Epoch 5/10\n",
      "60/60 [==============================] - 0s 2ms/step - loss: 0.1438 - accuracy: 0.9513\n",
      "Epoch 6/10\n",
      "60/60 [==============================] - 0s 2ms/step - loss: 0.1371 - accuracy: 0.9524\n",
      "Epoch 7/10\n",
      "60/60 [==============================] - 0s 3ms/step - loss: 0.1324 - accuracy: 0.9538\n",
      "Epoch 8/10\n",
      "60/60 [==============================] - 0s 2ms/step - loss: 0.1286 - accuracy: 0.9536\n",
      "Epoch 9/10\n",
      "60/60 [==============================] - 0s 3ms/step - loss: 0.1252 - accuracy: 0.9545\n",
      "Epoch 10/10\n",
      "60/60 [==============================] - 0s 2ms/step - loss: 0.1227 - accuracy: 0.9547\n"
     ]
    },
    {
     "data": {
      "text/plain": [
       "<keras.callbacks.History at 0x195b8a55c10>"
      ]
     },
     "execution_count": 4,
     "metadata": {},
     "output_type": "execute_result"
    }
   ],
   "source": [
    "model.fit(\n",
    "    x_train.reshape(60000, 784),\n",
    "    y_train,\n",
    "    epochs=10,\n",
    "    batch_size=1000\n",
    ")"
   ]
  },
  {
   "cell_type": "code",
   "execution_count": 5,
   "metadata": {},
   "outputs": [
    {
     "name": "stdout",
     "output_type": "stream",
     "text": [
      "313/313 [==============================] - 0s 441us/step - loss: 0.1249 - accuracy: 0.9528\n"
     ]
    },
    {
     "data": {
      "text/plain": [
       "[0.12488050758838654, 0.9527999758720398]"
      ]
     },
     "execution_count": 5,
     "metadata": {},
     "output_type": "execute_result"
    }
   ],
   "source": [
    "model.evaluate(x_test.reshape(-1, 784), y_test)\n",
    "#model.evaluate(x_train.reshape(-1, 784), y_train)"
   ]
  },
  {
   "cell_type": "code",
   "execution_count": 6,
   "metadata": {},
   "outputs": [],
   "source": [
    "#model.predict(x_train[1].reshape(1,784))"
   ]
  }
 ],
 "metadata": {
  "interpreter": {
   "hash": "f8fcbf85dd45e12290eec3b85dbe17d48e13c4e303156a7239b18cbe3c425310"
  },
  "kernelspec": {
   "display_name": "Python 3.9.6 64-bit",
   "language": "python",
   "name": "python3"
  },
  "language_info": {
   "codemirror_mode": {
    "name": "ipython",
    "version": 3
   },
   "file_extension": ".py",
   "mimetype": "text/x-python",
   "name": "python",
   "nbconvert_exporter": "python",
   "pygments_lexer": "ipython3",
   "version": "3.9.6"
  },
  "orig_nbformat": 4
 },
 "nbformat": 4,
 "nbformat_minor": 2
}
