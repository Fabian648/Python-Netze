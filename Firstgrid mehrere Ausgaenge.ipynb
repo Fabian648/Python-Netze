{
 "cells": [
  {
   "cell_type": "code",
   "execution_count": 18,
   "metadata": {},
   "outputs": [],
   "source": [
    "import gzip\n",
    "import numpy as np\n",
    "from tensorflow.keras.utils import to_categorical\n",
    "from tensorflow.keras.models import Sequential\n",
    "from tensorflow.keras.layers import Dense, Conv2D, MaxPooling2D, Flatten\n",
    "\n",
    "\n",
    "def open_images(filename):\n",
    "\n",
    "    with gzip.open(filename, \"rb\") as file:\n",
    "        data = file.read()\n",
    "        return np.frombuffer(data, dtype=np.uint8, offset=16)\\\n",
    "            .reshape(-1, 28, 28)\\\n",
    "            .astype(np.float32)\n",
    "\n",
    "\n",
    "def open_labels(filename):\n",
    "    with gzip.open(filename, \"rb\") as file:\n",
    "        data = file.read()\n",
    "        return np.frombuffer(data, dtype=np.uint8, offset=8)\n",
    "\n",
    "x_train = open_images(\"C:\\\\Users\\\\fabia\\\\Desktop\\\\Kurs\\\\Kursmaterialien\\\\data\\\\fashion\\\\train-images-idx3-ubyte.gz\")\n",
    "y_train = open_labels(\"C:\\\\Users\\\\fabia\\\\Desktop\\\\Kurs\\\\Kursmaterialien\\\\data\\\\fashion\\\\train-labels-idx1-ubyte.gz\")\n",
    "\n",
    "x_test = open_images(\"C:\\\\Users\\\\fabia\\\\Desktop\\\\Kurs\\\\Kursmaterialien\\\\data\\\\fashion\\\\t10k-images-idx3-ubyte.gz\")\n",
    "y_test = open_labels(\"C:\\\\Users\\\\fabia\\\\Desktop\\\\Kurs\\\\Kursmaterialien\\\\data\\\\fashion\\\\t10k-labels-idx1-ubyte.gz\")\n",
    "\n",
    "y_train = to_categorical(y_train)\n",
    "y_test = to_categorical(y_test)"
   ]
  },
  {
   "cell_type": "code",
   "execution_count": 19,
   "metadata": {},
   "outputs": [],
   "source": [
    "model = Sequential()\n",
    "\n",
    "model.add(Conv2D(10, kernel_size=(3,3), activation=\"sigmoid\", input_shape=(28, 28, 1)))\n",
    "model.add(Flatten())\n",
    "model.add(Dense(10, activation=\"softmax\"))\n",
    "\n",
    "model.compile(optimizer=\"rmsprop\", loss=\"categorical_crossentropy\", metrics=[\"accuracy\"])"
   ]
  },
  {
   "cell_type": "code",
   "execution_count": 20,
   "metadata": {},
   "outputs": [
    {
     "name": "stdout",
     "output_type": "stream",
     "text": [
      "Epoch 1/75\n",
      "60/60 [==============================] - 3s 40ms/step - loss: 1.4230 - accuracy: 0.6226\n",
      "Epoch 2/75\n",
      "60/60 [==============================] - 2s 40ms/step - loss: 0.6388 - accuracy: 0.7773\n",
      "Epoch 3/75\n",
      "60/60 [==============================] - 2s 41ms/step - loss: 0.5038 - accuracy: 0.8211\n",
      "Epoch 4/75\n",
      "60/60 [==============================] - 2s 41ms/step - loss: 0.4420 - accuracy: 0.8434\n",
      "Epoch 5/75\n",
      "60/60 [==============================] - 2s 41ms/step - loss: 0.4157 - accuracy: 0.8525\n",
      "Epoch 6/75\n",
      "60/60 [==============================] - 3s 51ms/step - loss: 0.3830 - accuracy: 0.8639\n",
      "Epoch 7/75\n",
      "60/60 [==============================] - 3s 45ms/step - loss: 0.3557 - accuracy: 0.8730\n",
      "Epoch 8/75\n",
      "60/60 [==============================] - 3s 47ms/step - loss: 0.3378 - accuracy: 0.8782\n",
      "Epoch 9/75\n",
      "60/60 [==============================] - 3s 46ms/step - loss: 0.3254 - accuracy: 0.8825\n",
      "Epoch 10/75\n",
      "60/60 [==============================] - 3s 48ms/step - loss: 0.3106 - accuracy: 0.8872\n",
      "Epoch 11/75\n",
      "60/60 [==============================] - 3s 45ms/step - loss: 0.2968 - accuracy: 0.8935\n",
      "Epoch 12/75\n",
      "60/60 [==============================] - 3s 48ms/step - loss: 0.2913 - accuracy: 0.8952\n",
      "Epoch 13/75\n",
      "60/60 [==============================] - 3s 46ms/step - loss: 0.2821 - accuracy: 0.8977\n",
      "Epoch 14/75\n",
      "60/60 [==============================] - 3s 47ms/step - loss: 0.2675 - accuracy: 0.9018\n",
      "Epoch 15/75\n",
      "60/60 [==============================] - 3s 46ms/step - loss: 0.2671 - accuracy: 0.9028\n",
      "Epoch 16/75\n",
      "60/60 [==============================] - 3s 48ms/step - loss: 0.2539 - accuracy: 0.9071\n",
      "Epoch 17/75\n",
      "60/60 [==============================] - 3s 46ms/step - loss: 0.2483 - accuracy: 0.9089\n",
      "Epoch 18/75\n",
      "60/60 [==============================] - 3s 45ms/step - loss: 0.2380 - accuracy: 0.9127\n",
      "Epoch 19/75\n",
      "60/60 [==============================] - 3s 50ms/step - loss: 0.2341 - accuracy: 0.9146\n",
      "Epoch 20/75\n",
      "60/60 [==============================] - 3s 47ms/step - loss: 0.2324 - accuracy: 0.9141\n",
      "Epoch 21/75\n",
      "60/60 [==============================] - 3s 45ms/step - loss: 0.2255 - accuracy: 0.9179\n",
      "Epoch 22/75\n",
      "60/60 [==============================] - 3s 47ms/step - loss: 0.2190 - accuracy: 0.9190\n",
      "Epoch 23/75\n",
      "60/60 [==============================] - 2s 40ms/step - loss: 0.2165 - accuracy: 0.9199\n",
      "Epoch 24/75\n",
      "60/60 [==============================] - 2s 38ms/step - loss: 0.2090 - accuracy: 0.9229\n",
      "Epoch 25/75\n",
      "60/60 [==============================] - 2s 37ms/step - loss: 0.2073 - accuracy: 0.9230\n",
      "Epoch 26/75\n",
      "60/60 [==============================] - 2s 40ms/step - loss: 0.1995 - accuracy: 0.9279\n",
      "Epoch 27/75\n",
      "60/60 [==============================] - 2s 39ms/step - loss: 0.1958 - accuracy: 0.9280\n",
      "Epoch 28/75\n",
      "60/60 [==============================] - 2s 41ms/step - loss: 0.1944 - accuracy: 0.9283\n",
      "Epoch 29/75\n",
      "60/60 [==============================] - 3s 43ms/step - loss: 0.1899 - accuracy: 0.9295\n",
      "Epoch 30/75\n",
      "60/60 [==============================] - 2s 41ms/step - loss: 0.1866 - accuracy: 0.9312\n",
      "Epoch 31/75\n",
      "60/60 [==============================] - 2s 40ms/step - loss: 0.1827 - accuracy: 0.9326\n",
      "Epoch 32/75\n",
      "60/60 [==============================] - 3s 42ms/step - loss: 0.1818 - accuracy: 0.9335\n",
      "Epoch 33/75\n",
      "60/60 [==============================] - 3s 50ms/step - loss: 0.1749 - accuracy: 0.9361\n",
      "Epoch 34/75\n",
      "60/60 [==============================] - 3s 51ms/step - loss: 0.1716 - accuracy: 0.9371\n",
      "Epoch 35/75\n",
      "60/60 [==============================] - 3s 50ms/step - loss: 0.1708 - accuracy: 0.9367\n",
      "Epoch 36/75\n",
      "60/60 [==============================] - 3s 51ms/step - loss: 0.1652 - accuracy: 0.9399\n",
      "Epoch 37/75\n",
      "60/60 [==============================] - 3s 48ms/step - loss: 0.1656 - accuracy: 0.9396\n",
      "Epoch 38/75\n",
      "60/60 [==============================] - 3s 49ms/step - loss: 0.1649 - accuracy: 0.9392\n",
      "Epoch 39/75\n",
      "60/60 [==============================] - 3s 42ms/step - loss: 0.1601 - accuracy: 0.9414\n",
      "Epoch 40/75\n",
      "60/60 [==============================] - 2s 37ms/step - loss: 0.1584 - accuracy: 0.9409\n",
      "Epoch 41/75\n",
      "60/60 [==============================] - 2s 37ms/step - loss: 0.1534 - accuracy: 0.9440\n",
      "Epoch 42/75\n",
      "60/60 [==============================] - 2s 37ms/step - loss: 0.1552 - accuracy: 0.9425\n",
      "Epoch 43/75\n",
      "60/60 [==============================] - 2s 38ms/step - loss: 0.1513 - accuracy: 0.9442\n",
      "Epoch 44/75\n",
      "60/60 [==============================] - 2s 38ms/step - loss: 0.1493 - accuracy: 0.9456\n",
      "Epoch 45/75\n",
      "60/60 [==============================] - 2s 38ms/step - loss: 0.1452 - accuracy: 0.9470\n",
      "Epoch 46/75\n",
      "60/60 [==============================] - 2s 41ms/step - loss: 0.1451 - accuracy: 0.9470\n",
      "Epoch 47/75\n",
      "60/60 [==============================] - 3s 43ms/step - loss: 0.1414 - accuracy: 0.9485\n",
      "Epoch 48/75\n",
      "60/60 [==============================] - 2s 37ms/step - loss: 0.1424 - accuracy: 0.9481\n",
      "Epoch 49/75\n",
      "60/60 [==============================] - 2s 38ms/step - loss: 0.1370 - accuracy: 0.9502\n",
      "Epoch 50/75\n",
      "60/60 [==============================] - 2s 35ms/step - loss: 0.1376 - accuracy: 0.9500\n",
      "Epoch 51/75\n",
      "60/60 [==============================] - 2s 35ms/step - loss: 0.1364 - accuracy: 0.9499\n",
      "Epoch 52/75\n",
      "60/60 [==============================] - 2s 35ms/step - loss: 0.1327 - accuracy: 0.9515\n",
      "Epoch 53/75\n",
      "60/60 [==============================] - 2s 35ms/step - loss: 0.1310 - accuracy: 0.9525\n",
      "Epoch 54/75\n",
      "60/60 [==============================] - 2s 34ms/step - loss: 0.1280 - accuracy: 0.9531\n",
      "Epoch 55/75\n",
      "60/60 [==============================] - 2s 35ms/step - loss: 0.1311 - accuracy: 0.9523\n",
      "Epoch 56/75\n",
      "60/60 [==============================] - 2s 35ms/step - loss: 0.1252 - accuracy: 0.9542\n",
      "Epoch 57/75\n",
      "60/60 [==============================] - 2s 35ms/step - loss: 0.1241 - accuracy: 0.9547\n",
      "Epoch 58/75\n",
      "60/60 [==============================] - 2s 34ms/step - loss: 0.1232 - accuracy: 0.9553\n",
      "Epoch 59/75\n",
      "60/60 [==============================] - 2s 34ms/step - loss: 0.1256 - accuracy: 0.9539\n",
      "Epoch 60/75\n",
      "60/60 [==============================] - 2s 35ms/step - loss: 0.1208 - accuracy: 0.9560\n",
      "Epoch 61/75\n",
      "60/60 [==============================] - 2s 34ms/step - loss: 0.1204 - accuracy: 0.9561\n",
      "Epoch 62/75\n",
      "60/60 [==============================] - 2s 35ms/step - loss: 0.1191 - accuracy: 0.9560\n",
      "Epoch 63/75\n",
      "60/60 [==============================] - 2s 34ms/step - loss: 0.1181 - accuracy: 0.9574\n",
      "Epoch 64/75\n",
      "60/60 [==============================] - 2s 35ms/step - loss: 0.1155 - accuracy: 0.9578\n",
      "Epoch 65/75\n",
      "60/60 [==============================] - 2s 36ms/step - loss: 0.1121 - accuracy: 0.9600\n",
      "Epoch 66/75\n",
      "60/60 [==============================] - 2s 37ms/step - loss: 0.1138 - accuracy: 0.9590\n",
      "Epoch 67/75\n",
      "60/60 [==============================] - 2s 37ms/step - loss: 0.1106 - accuracy: 0.9607\n",
      "Epoch 68/75\n",
      "60/60 [==============================] - 2s 38ms/step - loss: 0.1102 - accuracy: 0.9601\n",
      "Epoch 69/75\n",
      "60/60 [==============================] - 2s 38ms/step - loss: 0.1112 - accuracy: 0.9592\n",
      "Epoch 70/75\n",
      "60/60 [==============================] - 2s 37ms/step - loss: 0.1086 - accuracy: 0.9607\n",
      "Epoch 71/75\n",
      "60/60 [==============================] - 2s 37ms/step - loss: 0.1061 - accuracy: 0.9616\n",
      "Epoch 72/75\n",
      "60/60 [==============================] - 2s 38ms/step - loss: 0.1067 - accuracy: 0.9618\n",
      "Epoch 73/75\n",
      "60/60 [==============================] - 2s 39ms/step - loss: 0.1055 - accuracy: 0.9625\n",
      "Epoch 74/75\n",
      "60/60 [==============================] - 2s 38ms/step - loss: 0.1038 - accuracy: 0.9622\n",
      "Epoch 75/75\n",
      "60/60 [==============================] - 2s 37ms/step - loss: 0.1022 - accuracy: 0.9634\n"
     ]
    },
    {
     "data": {
      "text/plain": [
       "<keras.callbacks.History at 0x2281c7a6fd0>"
      ]
     },
     "execution_count": 20,
     "metadata": {},
     "output_type": "execute_result"
    }
   ],
   "source": [
    "model.fit(\n",
    "    x_train.reshape(60000, 28, 28, 1),\n",
    "    y_train,\n",
    "    epochs=75,\n",
    "    batch_size=1000\n",
    ")"
   ]
  },
  {
   "cell_type": "code",
   "execution_count": 27,
   "metadata": {},
   "outputs": [
    {
     "name": "stdout",
     "output_type": "stream",
     "text": [
      "WARNING:tensorflow:6 out of the last 6 calls to <function Model.make_predict_function.<locals>.predict_function at 0x000002280A1C2790> triggered tf.function retracing. Tracing is expensive and the excessive number of tracings could be due to (1) creating @tf.function repeatedly in a loop, (2) passing tensors with different shapes, (3) passing Python objects instead of tensors. For (1), please define your @tf.function outside of the loop. For (2), @tf.function has experimental_relax_shapes=True option that relaxes argument shapes that can avoid unnecessary retracing. For (3), please refer to https://www.tensorflow.org/guide/function#controlling_retracing and https://www.tensorflow.org/api_docs/python/tf/function for  more details.\n"
     ]
    },
    {
     "data": {
      "image/png": "[encoded data removed]",
      "text/plain": [
       "<Figure size 432x288 with 1 Axes>"
      ]
     },
     "metadata": {
      "needs_background": "light"
     },
     "output_type": "display_data"
    },
    {
     "data": {
      "image/png": "[encoded data removed]",
      "text/plain": [
       "<Figure size 432x288 with 1 Axes>"
      ]
     },
     "metadata": {
      "needs_background": "light"
     },
     "output_type": "display_data"
    },
    {
     "data": {
      "image/png": "[encoded data removed]",
      "text/plain": [
       "<Figure size 432x288 with 1 Axes>"
      ]
     },
     "metadata": {
      "needs_background": "light"
     },
     "output_type": "display_data"
    },
    {
     "data": {
      "image/png": "[encoded data removed]",
      "text/plain": [
       "<Figure size 432x288 with 1 Axes>"
      ]
     },
     "metadata": {
      "needs_background": "light"
     },
     "output_type": "display_data"
    },
    {
     "data": {
      "image/png": "[encoded data removed]",
      "text/plain": [
       "<Figure size 432x288 with 1 Axes>"
      ]
     },
     "metadata": {
      "needs_background": "light"
     },
     "output_type": "display_data"
    },
    {
     "data": {
      "image/png": "[encoded data removed]",
      "text/plain": [
       "<Figure size 432x288 with 1 Axes>"
      ]
     },
     "metadata": {
      "needs_background": "light"
     },
     "output_type": "display_data"
    },
    {
     "data": {
      "image/png": "[encoded data removed]",
      "text/plain": [
       "<Figure size 432x288 with 1 Axes>"
      ]
     },
     "metadata": {
      "needs_background": "light"
     },
     "output_type": "display_data"
    },
    {
     "data": {
      "image/png": "[encoded data removed]",
      "text/plain": [
       "<Figure size 432x288 with 1 Axes>"
      ]
     },
     "metadata": {
      "needs_background": "light"
     },
     "output_type": "display_data"
    },
    {
     "data": {
      "image/png": "[encoded data removed]",
      "text/plain": [
       "<Figure size 432x288 with 1 Axes>"
      ]
     },
     "metadata": {
      "needs_background": "light"
     },
     "output_type": "display_data"
    },
    {
     "data": {
      "image/png": "[encoded data removed]",
      "text/plain": [
       "<Figure size 432x288 with 1 Axes>"
      ]
     },
     "metadata": {
      "needs_background": "light"
     },
     "output_type": "display_data"
    }
   ],
   "source": [
    "%matplotlib inline\n",
    "import matplotlib.pyplot as plt\n",
    "\n",
    "model2 = Sequential()\n",
    "\n",
    "model2.add(Conv2D(10,\n",
    "                    kernel_size=(3,3),\n",
    "                    activation=\"sigmoid\",\n",
    "                    input_shape=(28,28,1),\n",
    "                    weights=model.layers[0].get_weights()\n",
    "))\n",
    "\n",
    "result = model2.predict(x_test[0].reshape(1,28,28,1))\n",
    "\n",
    "for i in range(10):\n",
    "    plt.imshow(result[0][:,:,i])\n",
    "    plt.show()\n"
   ]
  },
  {
   "cell_type": "code",
   "execution_count": 21,
   "metadata": {},
   "outputs": [
    {
     "name": "stdout",
     "output_type": "stream",
     "text": [
      "313/313 [==============================] - 0s 1ms/step - loss: 0.3577 - accuracy: 0.8917\n"
     ]
    },
    {
     "data": {
      "text/plain": [
       "[0.35771995782852173, 0.891700029373169]"
      ]
     },
     "execution_count": 21,
     "metadata": {},
     "output_type": "execute_result"
    }
   ],
   "source": [
    "model.evaluate(x_test.reshape(-1, 28, 28), y_test)"
   ]
  }
 ],
 "metadata": {
  "interpreter": {
   "hash": "f8fcbf85dd45e12290eec3b85dbe17d48e13c4e303156a7239b18cbe3c425310"
  },
  "kernelspec": {
   "display_name": "Python 3.9.6 64-bit",
   "language": "python",
   "name": "python3"
  },
  "language_info": {
   "codemirror_mode": {
    "name": "ipython",
    "version": 3
   },
   "file_extension": ".py",
   "mimetype": "text/x-python",
   "name": "python",
   "nbconvert_exporter": "python",
   "pygments_lexer": "ipython3",
   "version": "3.9.6"
  },
  "orig_nbformat": 4
 },
 "nbformat": 4,
 "nbformat_minor": 2
}
