{
 "cells": [
  {
   "cell_type": "code",
   "execution_count": 32,
   "metadata": {},
   "outputs": [],
   "source": [
    "import gzip\n",
    "import numpy as np\n",
    "from tensorflow.keras.utils import to_categorical\n",
    "from tensorflow.keras.models import Sequential\n",
    "from tensorflow.keras.layers import Dense, Conv2D, MaxPooling2D, Flatten\n",
    "\n",
    "\n",
    "def open_images(filename):\n",
    "\n",
    "    with gzip.open(filename, \"rb\") as file:\n",
    "        data = file.read()\n",
    "        return np.frombuffer(data, dtype=np.uint8, offset=16)\\\n",
    "            .reshape(-1, 28, 28)\\\n",
    "            .astype(np.float32)\n",
    "\n",
    "\n",
    "def open_labels(filename):\n",
    "    with gzip.open(filename, \"rb\") as file:\n",
    "        data = file.read()\n",
    "        return np.frombuffer(data, dtype=np.uint8, offset=8)\n",
    "\n",
    "x_train = open_images(\"C:\\\\Users\\\\fabia\\\\Desktop\\\\Kurs\\\\Kursmaterialien\\\\data\\\\fashion\\\\train-images-idx3-ubyte.gz\")\n",
    "y_train = open_labels(\"C:\\\\Users\\\\fabia\\\\Desktop\\\\Kurs\\\\Kursmaterialien\\\\data\\\\fashion\\\\train-labels-idx1-ubyte.gz\")\n",
    "\n",
    "x_test = open_images(\"C:\\\\Users\\\\fabia\\\\Desktop\\\\Kurs\\\\Kursmaterialien\\\\data\\\\fashion\\\\t10k-images-idx3-ubyte.gz\")\n",
    "y_test = open_labels(\"C:\\\\Users\\\\fabia\\\\Desktop\\\\Kurs\\\\Kursmaterialien\\\\data\\\\fashion\\\\t10k-labels-idx1-ubyte.gz\")\n",
    "\n",
    "y_train = to_categorical(y_train)\n",
    "y_test = to_categorical(y_test)"
   ]
  },
  {
   "cell_type": "code",
   "execution_count": 33,
   "metadata": {},
   "outputs": [],
   "source": [
    "model = Sequential()\n",
    "\n",
    "model.add(Conv2D(10, kernel_size=(3,3), activation=\"sigmoid\", input_shape=(28, 28, 1)))\n",
    "model.add(MaxPooling2D(pool_size=(2,2)))\n",
    "model.add(Flatten())\n",
    "model.add(Dense(10, activation=\"softmax\"))\n",
    "\n",
    "model.compile(optimizer=\"rmsprop\", loss=\"categorical_crossentropy\", metrics=[\"accuracy\"])"
   ]
  },
  {
   "cell_type": "code",
   "execution_count": 34,
   "metadata": {},
   "outputs": [
    {
     "name": "stdout",
     "output_type": "stream",
     "text": [
      "Epoch 1/75\n",
      "60/60 [==============================] - 3s 47ms/step - loss: 1.2496 - accuracy: 0.5906\n",
      "Epoch 2/75\n",
      "60/60 [==============================] - 3s 47ms/step - loss: 0.7434 - accuracy: 0.7325\n",
      "Epoch 3/75\n",
      "60/60 [==============================] - 3s 48ms/step - loss: 0.6344 - accuracy: 0.7639\n",
      "Epoch 4/75\n",
      "60/60 [==============================] - 3s 50ms/step - loss: 0.5735 - accuracy: 0.7861\n",
      "Epoch 5/75\n",
      "60/60 [==============================] - 3s 53ms/step - loss: 0.5243 - accuracy: 0.8055\n",
      "Epoch 6/75\n",
      "60/60 [==============================] - 3s 55ms/step - loss: 0.4951 - accuracy: 0.8175\n",
      "Epoch 7/75\n",
      "60/60 [==============================] - 4s 59ms/step - loss: 0.4705 - accuracy: 0.8262\n",
      "Epoch 8/75\n",
      "60/60 [==============================] - 3s 55ms/step - loss: 0.4503 - accuracy: 0.8339\n",
      "Epoch 9/75\n",
      "60/60 [==============================] - 3s 55ms/step - loss: 0.4336 - accuracy: 0.8393\n",
      "Epoch 10/75\n",
      "60/60 [==============================] - 4s 59ms/step - loss: 0.4172 - accuracy: 0.8479\n",
      "Epoch 11/75\n",
      "60/60 [==============================] - 3s 56ms/step - loss: 0.4127 - accuracy: 0.8488\n",
      "Epoch 12/75\n",
      "60/60 [==============================] - 4s 59ms/step - loss: 0.4002 - accuracy: 0.8538\n",
      "Epoch 13/75\n",
      "60/60 [==============================] - 3s 52ms/step - loss: 0.3885 - accuracy: 0.8586\n",
      "Epoch 14/75\n",
      "60/60 [==============================] - 3s 52ms/step - loss: 0.3838 - accuracy: 0.8602\n",
      "Epoch 15/75\n",
      "60/60 [==============================] - 3s 52ms/step - loss: 0.3813 - accuracy: 0.8610\n",
      "Epoch 16/75\n",
      "60/60 [==============================] - 3s 50ms/step - loss: 0.3713 - accuracy: 0.8627\n",
      "Epoch 17/75\n",
      "60/60 [==============================] - 3s 47ms/step - loss: 0.3674 - accuracy: 0.8671\n",
      "Epoch 18/75\n",
      "60/60 [==============================] - 3s 47ms/step - loss: 0.3610 - accuracy: 0.8691\n",
      "Epoch 19/75\n",
      "60/60 [==============================] - 3s 49ms/step - loss: 0.3574 - accuracy: 0.8715\n",
      "Epoch 20/75\n",
      "60/60 [==============================] - 3s 43ms/step - loss: 0.3501 - accuracy: 0.8729\n",
      "Epoch 21/75\n",
      "60/60 [==============================] - 3s 42ms/step - loss: 0.3458 - accuracy: 0.8734\n",
      "Epoch 22/75\n",
      "60/60 [==============================] - 3s 44ms/step - loss: 0.3450 - accuracy: 0.8752\n",
      "Epoch 23/75\n",
      "60/60 [==============================] - 3s 44ms/step - loss: 0.3377 - accuracy: 0.8768\n",
      "Epoch 24/75\n",
      "60/60 [==============================] - 3s 46ms/step - loss: 0.3327 - accuracy: 0.8789\n",
      "Epoch 25/75\n",
      "60/60 [==============================] - 3s 47ms/step - loss: 0.3282 - accuracy: 0.8807\n",
      "Epoch 26/75\n",
      "60/60 [==============================] - 3s 45ms/step - loss: 0.3226 - accuracy: 0.8833\n",
      "Epoch 27/75\n",
      "60/60 [==============================] - 3s 50ms/step - loss: 0.3165 - accuracy: 0.8839\n",
      "Epoch 28/75\n",
      "60/60 [==============================] - 3s 49ms/step - loss: 0.3132 - accuracy: 0.8864\n",
      "Epoch 29/75\n",
      "60/60 [==============================] - 3s 46ms/step - loss: 0.3063 - accuracy: 0.8891\n",
      "Epoch 30/75\n",
      "60/60 [==============================] - 3s 46ms/step - loss: 0.3030 - accuracy: 0.8906\n",
      "Epoch 31/75\n",
      "60/60 [==============================] - 3s 46ms/step - loss: 0.3004 - accuracy: 0.8915\n",
      "Epoch 32/75\n",
      "60/60 [==============================] - 3s 44ms/step - loss: 0.2952 - accuracy: 0.8915\n",
      "Epoch 33/75\n",
      "60/60 [==============================] - 3s 46ms/step - loss: 0.2917 - accuracy: 0.8946\n",
      "Epoch 34/75\n",
      "60/60 [==============================] - 3s 46ms/step - loss: 0.2876 - accuracy: 0.8958\n",
      "Epoch 35/75\n",
      "60/60 [==============================] - 3s 45ms/step - loss: 0.2854 - accuracy: 0.8967\n",
      "Epoch 36/75\n",
      "60/60 [==============================] - 3s 45ms/step - loss: 0.2807 - accuracy: 0.8978\n",
      "Epoch 37/75\n",
      "60/60 [==============================] - 3s 47ms/step - loss: 0.2806 - accuracy: 0.8985\n",
      "Epoch 38/75\n",
      "60/60 [==============================] - 3s 46ms/step - loss: 0.2777 - accuracy: 0.8992\n",
      "Epoch 39/75\n",
      "60/60 [==============================] - 3s 46ms/step - loss: 0.2732 - accuracy: 0.9016\n",
      "Epoch 40/75\n",
      "60/60 [==============================] - 3s 46ms/step - loss: 0.2721 - accuracy: 0.9009\n",
      "Epoch 41/75\n",
      "60/60 [==============================] - 3s 45ms/step - loss: 0.2716 - accuracy: 0.9017\n",
      "Epoch 42/75\n",
      "60/60 [==============================] - 3s 41ms/step - loss: 0.2686 - accuracy: 0.9036\n",
      "Epoch 43/75\n",
      "60/60 [==============================] - 2s 41ms/step - loss: 0.2645 - accuracy: 0.9043\n",
      "Epoch 44/75\n",
      "60/60 [==============================] - 2s 40ms/step - loss: 0.2640 - accuracy: 0.9037\n",
      "Epoch 45/75\n",
      "60/60 [==============================] - 2s 41ms/step - loss: 0.2611 - accuracy: 0.9050\n",
      "Epoch 46/75\n",
      "60/60 [==============================] - 3s 44ms/step - loss: 0.2608 - accuracy: 0.9041\n",
      "Epoch 47/75\n",
      "60/60 [==============================] - 3s 47ms/step - loss: 0.2562 - accuracy: 0.9077\n",
      "Epoch 48/75\n",
      "60/60 [==============================] - 3s 54ms/step - loss: 0.2585 - accuracy: 0.9059\n",
      "Epoch 49/75\n",
      "60/60 [==============================] - 3s 47ms/step - loss: 0.2562 - accuracy: 0.9061\n",
      "Epoch 50/75\n",
      "60/60 [==============================] - 3s 47ms/step - loss: 0.2519 - accuracy: 0.9084\n",
      "Epoch 51/75\n",
      "60/60 [==============================] - 3s 51ms/step - loss: 0.2520 - accuracy: 0.9084\n",
      "Epoch 52/75\n",
      "60/60 [==============================] - 3s 49ms/step - loss: 0.2499 - accuracy: 0.9084\n",
      "Epoch 53/75\n",
      "60/60 [==============================] - 3s 49ms/step - loss: 0.2487 - accuracy: 0.9101\n",
      "Epoch 54/75\n",
      "60/60 [==============================] - 3s 50ms/step - loss: 0.2476 - accuracy: 0.9088\n",
      "Epoch 55/75\n",
      "60/60 [==============================] - 3s 50ms/step - loss: 0.2456 - accuracy: 0.9108\n",
      "Epoch 56/75\n",
      "60/60 [==============================] - 3s 47ms/step - loss: 0.2429 - accuracy: 0.9110\n",
      "Epoch 57/75\n",
      "60/60 [==============================] - 3s 45ms/step - loss: 0.2425 - accuracy: 0.9122\n",
      "Epoch 58/75\n",
      "60/60 [==============================] - 3s 45ms/step - loss: 0.2424 - accuracy: 0.9114\n",
      "Epoch 59/75\n",
      "60/60 [==============================] - 3s 43ms/step - loss: 0.2399 - accuracy: 0.9132\n",
      "Epoch 60/75\n",
      "60/60 [==============================] - 3s 44ms/step - loss: 0.2408 - accuracy: 0.9127\n",
      "Epoch 61/75\n",
      "60/60 [==============================] - 3s 45ms/step - loss: 0.2383 - accuracy: 0.9128\n",
      "Epoch 62/75\n",
      "60/60 [==============================] - 3s 45ms/step - loss: 0.2368 - accuracy: 0.9138\n",
      "Epoch 63/75\n",
      "60/60 [==============================] - 3s 44ms/step - loss: 0.2363 - accuracy: 0.9146\n",
      "Epoch 64/75\n",
      "60/60 [==============================] - 3s 47ms/step - loss: 0.2350 - accuracy: 0.9151\n",
      "Epoch 65/75\n",
      "60/60 [==============================] - 3s 43ms/step - loss: 0.2339 - accuracy: 0.9137\n",
      "Epoch 66/75\n",
      "60/60 [==============================] - 3s 43ms/step - loss: 0.2328 - accuracy: 0.9152\n",
      "Epoch 67/75\n",
      "60/60 [==============================] - 3s 43ms/step - loss: 0.2342 - accuracy: 0.9147\n",
      "Epoch 68/75\n",
      "60/60 [==============================] - 3s 43ms/step - loss: 0.2320 - accuracy: 0.9148\n",
      "Epoch 69/75\n",
      "60/60 [==============================] - 3s 42ms/step - loss: 0.2289 - accuracy: 0.9159\n",
      "Epoch 70/75\n",
      "60/60 [==============================] - 3s 43ms/step - loss: 0.2308 - accuracy: 0.9148\n",
      "Epoch 71/75\n",
      "60/60 [==============================] - 3s 43ms/step - loss: 0.2279 - accuracy: 0.9171\n",
      "Epoch 72/75\n",
      "60/60 [==============================] - 3s 42ms/step - loss: 0.2287 - accuracy: 0.9162\n",
      "Epoch 73/75\n",
      "60/60 [==============================] - 3s 45ms/step - loss: 0.2247 - accuracy: 0.9174\n",
      "Epoch 74/75\n",
      "60/60 [==============================] - 3s 42ms/step - loss: 0.2265 - accuracy: 0.9168\n",
      "Epoch 75/75\n",
      "60/60 [==============================] - 3s 43ms/step - loss: 0.2247 - accuracy: 0.9180\n"
     ]
    },
    {
     "data": {
      "text/plain": [
       "<keras.callbacks.History at 0x2280ad37a60>"
      ]
     },
     "execution_count": 34,
     "metadata": {},
     "output_type": "execute_result"
    }
   ],
   "source": [
    "model.fit(\n",
    "    x_train.reshape(60000, 28, 28, 1),\n",
    "    y_train,\n",
    "    epochs=75,\n",
    "    batch_size=1000\n",
    ")"
   ]
  },
  {
   "cell_type": "code",
   "execution_count": 35,
   "metadata": {},
   "outputs": [
    {
     "data": {
      "image/png": "[encoded data removed]",
      "text/plain": [
       "<Figure size 432x288 with 1 Axes>"
      ]
     },
     "metadata": {
      "needs_background": "light"
     },
     "output_type": "display_data"
    },
    {
     "data": {
      "image/png": "[encoded data removed]",
      "text/plain": [
       "<Figure size 432x288 with 1 Axes>"
      ]
     },
     "metadata": {
      "needs_background": "light"
     },
     "output_type": "display_data"
    },
    {
     "data": {
      "image/png": "[encoded data removed]",
      "text/plain": [
       "<Figure size 432x288 with 1 Axes>"
      ]
     },
     "metadata": {
      "needs_background": "light"
     },
     "output_type": "display_data"
    },
    {
     "data": {
      "image/png": "[encoded data removed]",
      "text/plain": [
       "<Figure size 432x288 with 1 Axes>"
      ]
     },
     "metadata": {
      "needs_background": "light"
     },
     "output_type": "display_data"
    },
    {
     "data": {
      "image/png": "[encoded data removed]",
      "text/plain": [
       "<Figure size 432x288 with 1 Axes>"
      ]
     },
     "metadata": {
      "needs_background": "light"
     },
     "output_type": "display_data"
    },
    {
     "data": {
      "image/png": "[encoded data removed]",
      "text/plain": [
       "<Figure size 432x288 with 1 Axes>"
      ]
     },
     "metadata": {
      "needs_background": "light"
     },
     "output_type": "display_data"
    },
    {
     "data": {
      "image/png": "[encoded data removed]",
      "text/plain": [
       "<Figure size 432x288 with 1 Axes>"
      ]
     },
     "metadata": {
      "needs_background": "light"
     },
     "output_type": "display_data"
    },
    {
     "data": {
      "image/png": "[encoded data removed]",
      "text/plain": [
       "<Figure size 432x288 with 1 Axes>"
      ]
     },
     "metadata": {
      "needs_background": "light"
     },
     "output_type": "display_data"
    },
    {
     "data": {
      "image/png": "[encoded data removed]",
      "text/plain": [
       "<Figure size 432x288 with 1 Axes>"
      ]
     },
     "metadata": {
      "needs_background": "light"
     },
     "output_type": "display_data"
    },
    {
     "data": {
      "image/png": "[encoded data removed]",
      "text/plain": [
       "<Figure size 432x288 with 1 Axes>"
      ]
     },
     "metadata": {
      "needs_background": "light"
     },
     "output_type": "display_data"
    }
   ],
   "source": [
    "%matplotlib inline\n",
    "import matplotlib.pyplot as plt\n",
    "\n",
    "model2 = Sequential()\n",
    "\n",
    "model2.add(Conv2D(10,\n",
    "                    kernel_size=(3,3),\n",
    "                    activation=\"sigmoid\",\n",
    "                    input_shape=(28,28,1),\n",
    "                    weights=model.layers[0].get_weights()\n",
    "))\n",
    "\n",
    "result = model2.predict(x_test[10].reshape(1,28,28,1))\n",
    "\n",
    "for i in range(10):\n",
    "    plt.imshow(result[0][:,:,i])\n",
    "    plt.show()\n"
   ]
  },
  {
   "cell_type": "code",
   "execution_count": 36,
   "metadata": {},
   "outputs": [
    {
     "name": "stdout",
     "output_type": "stream",
     "text": [
      "313/313 [==============================] - 0s 966us/step - loss: 0.2889 - accuracy: 0.8965\n"
     ]
    },
    {
     "data": {
      "text/plain": [
       "[0.28888705372810364, 0.8964999914169312]"
      ]
     },
     "execution_count": 36,
     "metadata": {},
     "output_type": "execute_result"
    }
   ],
   "source": [
    "model.evaluate(x_test.reshape(-1, 28, 28), y_test)"
   ]
  }
 ],
 "metadata": {
  "interpreter": {
   "hash": "f8fcbf85dd45e12290eec3b85dbe17d48e13c4e303156a7239b18cbe3c425310"
  },
  "kernelspec": {
   "display_name": "Python 3.9.6 64-bit",
   "language": "python",
   "name": "python3"
  },
  "language_info": {
   "codemirror_mode": {
    "name": "ipython",
    "version": 3
   },
   "file_extension": ".py",
   "mimetype": "text/x-python",
   "name": "python",
   "nbconvert_exporter": "python",
   "pygments_lexer": "ipython3",
   "version": "3.9.6"
  },
  "orig_nbformat": 4
 },
 "nbformat": 4,
 "nbformat_minor": 2
}
