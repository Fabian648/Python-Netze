{
 "cells": [
  {
   "cell_type": "code",
   "execution_count": 15,
   "metadata": {},
   "outputs": [],
   "source": [
    "from PIL import Image\n",
    "import random\n",
    "\n",
    "\n",
    "_0 = (255,0,0)           # red\n",
    "_1 = (0,0,255)           # blue\n",
    "_2 = (0,255,0)           # green\n",
    "_3 = (0,0,0)             # black\n",
    "_4 = (255,255,255)       # white\n",
    "\n",
    "datalist = []\n",
    "\n",
    "for i in range(1000):\n",
    "\n",
    "    ran = random.randint(0,4)\n",
    "    if ran == 0:\n",
    "        im = Image.new(mode = \"RGB\", size = (1, 1), color = _0)\n",
    "        datalist.append('0')\n",
    "    elif ran == 1:\n",
    "        im = Image.new(mode = \"RGB\", size = (1, 1), color =  _1)\n",
    "        datalist.append('1')\n",
    "    elif ran == 2:\n",
    "        im = Image.new(mode = \"RGB\", size = (1, 1), color =  _2)\n",
    "        datalist.append('2')\n",
    "    elif ran == 3:\n",
    "        im = Image.new(mode = \"RGB\", size = (1, 1), color =  _3)\n",
    "        datalist.append('3')\n",
    "    elif ran == 4:\n",
    "        im = Image.new(mode = \"RGB\", size = (1, 1), color =  _4)\n",
    "        datalist.append('4')\n",
    "    \n",
    "    im.save(\"C:\\\\Users\\\\fabia\\\\Desktop\\\\Kurs\\\\Bilder\\\\\" + str(i) + \".png\")\n",
    "\n",
    "with open(\"C:\\\\Users\\\\fabia\\\\Desktop\\\\Kurs\\\\Bilderoutputfile.txt\", 'w') as tf:\n",
    "    tf.write(\"\\n\".join(datalist))\n",
    "#im.show()"
   ]
  }
 ],
 "metadata": {
  "interpreter": {
   "hash": "f8fcbf85dd45e12290eec3b85dbe17d48e13c4e303156a7239b18cbe3c425310"
  },
  "kernelspec": {
   "display_name": "Python 3.9.6 64-bit",
   "language": "python",
   "name": "python3"
  },
  "language_info": {
   "codemirror_mode": {
    "name": "ipython",
    "version": 3
   },
   "file_extension": ".py",
   "mimetype": "text/x-python",
   "name": "python",
   "nbconvert_exporter": "python",
   "pygments_lexer": "ipython3",
   "version": "3.9.6"
  },
  "orig_nbformat": 4
 },
 "nbformat": 4,
 "nbformat_minor": 2
}
