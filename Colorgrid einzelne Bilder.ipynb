{
 "cells": [
  {
   "cell_type": "code",
   "execution_count": 1,
   "metadata": {},
   "outputs": [],
   "source": [
    "import gzip\n",
    "import numpy as np\n",
    "from PIL import Image\n",
    "import binascii\n",
    "from tensorflow.keras.models import Sequential\n",
    "from tensorflow.keras.layers import Dense\n",
    "\n",
    "def rgb2hex(r, g, b):\n",
    "    scale = 16\n",
    "    num_of_bits = 24\n",
    "    hex_mydata = '{:02x}{:02x}{:02x}'.format(r,g,b)\n",
    "    return bin(int(hex_mydata, scale))[2:].zfill(num_of_bits)\n",
    "\n",
    "def open_image(filename):\n",
    "    he = ['0','1','2','3','4','5','6','7','8','9','A','B','C','D','E','F']\n",
    "    im = Image.open(filename)\n",
    "    im.load()\n",
    "    \n",
    "    pic = ''\n",
    "    for y in range(im.size[1]):\n",
    "        for x in range(im.size[0]):\n",
    "            #for rggb in [0,1,1,2]:\n",
    "            #    pic += he[im.getpixel((x,y))[rggb]]\n",
    "            r, g, b = im.getpixel((x,y))\n",
    "            pic += rgb2hex(r,g,b) + ' '\n",
    "    return pic\n",
    "\n",
    "\n",
    "def open_labels(filename):\n",
    "    f = open(filename)\n",
    "    lines = f.readlines()\n",
    "    all_labels = []\n",
    "\n",
    "    for i in lines:\n",
    "        all_labels.append(i.strip())\n",
    "    return np.asarray(all_labels).astype('int')\n",
    "        \n",
    "\n"
   ]
  },
  {
   "cell_type": "code",
   "execution_count": 2,
   "metadata": {},
   "outputs": [],
   "source": [
    "#array = np.chararray(24)\n",
    "#array = open_image(\"C:\\\\Users\\\\fabia\\\\Desktop\\Kurs\\\\2.png\")\n",
    "x_train = open_image(\"C:\\\\Users\\\\fabia\\\\Desktop\\Kurs\\\\2.png\").rstrip().split(' ')\n",
    "y_train = open_labels(\"C:\\\\Users\\\\fabia\\\\Desktop\\\\Kurs\\\\labels.txt\")\n",
    "\n",
    "y_train = y_train == 0\n",
    "\n",
    "src = []\n",
    "\n",
    "for i in x_train:\n",
    "    src.append(list(i))\n",
    "\n",
    "x_train = np.asarray(src).astype(int)\n"
   ]
  },
  {
   "cell_type": "code",
   "execution_count": 3,
   "metadata": {},
   "outputs": [],
   "source": [
    "model = Sequential()\n",
    "\n",
    "model.add(Dense(100, activation=\"sigmoid\", input_shape=(24,)))\n",
    "model.add(Dense(1, activation=\"sigmoid\"))\n",
    "\n",
    "model.compile(optimizer=\"sgd\", loss=\"binary_crossentropy\", metrics=[\"accuracy\"])"
   ]
  },
  {
   "cell_type": "code",
   "execution_count": 4,
   "metadata": {},
   "outputs": [
    {
     "name": "stdout",
     "output_type": "stream",
     "text": [
      "Epoch 1/10\n",
      "1/1 [==============================] - 0s 229ms/step - loss: 0.6529 - accuracy: 0.5000\n",
      "Epoch 2/10\n",
      "1/1 [==============================] - 0s 1ms/step - loss: 0.6515 - accuracy: 0.5000\n",
      "Epoch 3/10\n",
      "1/1 [==============================] - 0s 1ms/step - loss: 0.6502 - accuracy: 0.5000\n",
      "Epoch 4/10\n",
      "1/1 [==============================] - 0s 1ms/step - loss: 0.6490 - accuracy: 0.5000\n",
      "Epoch 5/10\n",
      "1/1 [==============================] - 0s 1ms/step - loss: 0.6478 - accuracy: 0.5000\n",
      "Epoch 6/10\n",
      "1/1 [==============================] - 0s 1ms/step - loss: 0.6467 - accuracy: 0.5000\n",
      "Epoch 7/10\n",
      "1/1 [==============================] - 0s 1ms/step - loss: 0.6455 - accuracy: 0.5000\n",
      "Epoch 8/10\n",
      "1/1 [==============================] - 0s 2ms/step - loss: 0.6444 - accuracy: 0.5000\n",
      "Epoch 9/10\n",
      "1/1 [==============================] - 0s 997us/step - loss: 0.6433 - accuracy: 0.5000\n",
      "Epoch 10/10\n",
      "1/1 [==============================] - 0s 1ms/step - loss: 0.6423 - accuracy: 1.0000\n"
     ]
    },
    {
     "data": {
      "text/plain": [
       "<keras.callbacks.History at 0x236379a2b50>"
      ]
     },
     "execution_count": 4,
     "metadata": {},
     "output_type": "execute_result"
    }
   ],
   "source": [
    "model.fit(\n",
    "    x_train.reshape(2, 24),\n",
    "    y_train,\n",
    "    epochs=10,\n",
    "    batch_size=1000\n",
    ")"
   ]
  }
 ],
 "metadata": {
  "interpreter": {
   "hash": "f8fcbf85dd45e12290eec3b85dbe17d48e13c4e303156a7239b18cbe3c425310"
  },
  "kernelspec": {
   "display_name": "Python 3.9.6 64-bit",
   "language": "python",
   "name": "python3"
  },
  "language_info": {
   "codemirror_mode": {
    "name": "ipython",
    "version": 3
   },
   "file_extension": ".py",
   "mimetype": "text/x-python",
   "name": "python",
   "nbconvert_exporter": "python",
   "pygments_lexer": "ipython3",
   "version": "3.9.6"
  },
  "orig_nbformat": 4
 },
 "nbformat": 4,
 "nbformat_minor": 2
}
